{
 "cells": [
  {
   "cell_type": "markdown",
   "id": "bdac7153",
   "metadata": {},
   "source": [
    "# Create a Project"
   ]
  },
  {
   "cell_type": "markdown",
   "id": "c105936a",
   "metadata": {},
   "source": [
    "django-admin startproject core"
   ]
  },
  {
   "cell_type": "markdown",
   "id": "4bb5ec3d",
   "metadata": {},
   "source": [
    "# Create an App"
   ]
  },
  {
   "cell_type": "markdown",
   "id": "db588627",
   "metadata": {},
   "source": [
    "python manage.py startapp home"
   ]
  },
  {
   "cell_type": "markdown",
   "id": "c3efe8bc",
   "metadata": {},
   "source": [
    "# Add this app to settings.py file"
   ]
  },
  {
   "cell_type": "code",
   "execution_count": 2,
   "id": "ffc28b4f",
   "metadata": {},
   "outputs": [],
   "source": [
    "INSTALLED_APPS = [\n",
    "    'django.contrib.admin',\n",
    "    'django.contrib.auth',\n",
    "    'django.contrib.contenttypes',\n",
    "    'django.contrib.sessions',\n",
    "    'django.contrib.messages',\n",
    "    'django.contrib.staticfiles',\n",
    "    'home',\n",
    "    'rest_framework'\n",
    "]"
   ]
  },
  {
   "cell_type": "markdown",
   "id": "b024d1a9",
   "metadata": {},
   "source": [
    "# Creating Get API"
   ]
  },
  {
   "cell_type": "code",
   "execution_count": null,
   "id": "f5d1248e",
   "metadata": {},
   "outputs": [],
   "source": [
    "#create get API with @api_view in core/home/views.py\n",
    "from rest_framework.decorators import api_view\n",
    "from rest_framework.response import Response\n",
    "\n",
    "@api_view(['GET'])\n",
    "def index(request):\n",
    "    # OR we can check request.method == \"GET\" then only give this response\n",
    "    data = {\n",
    "        'course':'python',\n",
    "        'content' : ['flask', 'django' , 'fastapi'],\n",
    "        'author' : 'rahul'\n",
    "    }\n",
    "    return Response(data)\n",
    "\n",
    "#create url route for the above api in core/api/urls.py\n",
    "from django.urls import path\n",
    "\n",
    "urlpatterns = [\n",
    "    path('index/', views.index),\n",
    "]\n",
    "\n",
    "#include this api app urls to project urls in core/core/urls.py\n",
    "from django.contrib import admin\n",
    "from django.urls import path, include\n",
    "\n",
    "urlpatterns = [\n",
    "    path('admin/', admin.site.urls),\n",
    "    path('api/', include('api.urls'))\n",
    "\n",
    "]\n",
    "\n",
    "#python manage.py migrate\n",
    "\n",
    "#python manage.py runserver\n",
    "\n",
    "#open : http://127.0.0.1:8000/api/index/\n",
    "#output : \n",
    "\"\"\"\n",
    "{\n",
    "    \"course\": \"python\",\n",
    "    \"content\": [\n",
    "        \"flask\",\n",
    "        \"django\",\n",
    "        \"fastapi\"\n",
    "    ],\n",
    "    \"author\": \"rahul\"\n",
    "}\n",
    "\"\"\""
   ]
  },
  {
   "cell_type": "markdown",
   "id": "393bafe0",
   "metadata": {},
   "source": [
    "# Query parameter in DRF"
   ]
  },
  {
   "cell_type": "code",
   "execution_count": null,
   "id": "8dfe8117",
   "metadata": {},
   "outputs": [],
   "source": [
    "#Everything is same GET API the only change is the below code\n",
    "@api_view(['GET', \"POST\"])\n",
    "def index(request):\n",
    "    if request.method == \"GET\":\n",
    "        data = {'course':'python'}\n",
    "        print(request.GET.get(\"search\"))#rahul\n",
    "        return Response(data)\n",
    "    \n",
    "#http://127.0.0.1:8000/api/index?search=rahul"
   ]
  },
  {
   "cell_type": "markdown",
   "id": "c7d1e05f",
   "metadata": {},
   "source": [
    "# Path parameter in DRF"
   ]
  },
  {
   "cell_type": "code",
   "execution_count": null,
   "id": "d1e2094d",
   "metadata": {},
   "outputs": [],
   "source": [
    "#Everything is same GET API the only change is the below code\n",
    "\n",
    "#urls.py\n",
    "urlpatterns = [\n",
    "    path('index/user/<usr>', views.index),\n",
    "]\n",
    "\n",
    "#views.py\n",
    "@api_view(['GET', \"POST\"])\n",
    "def index(request, usr):\n",
    "    if request.method == \"GET\":\n",
    "        data = {'course':'python'}\n",
    "        print(usr) #25\n",
    "        return Response(data)\n",
    "    \n",
    "# http://127.0.0.1:8000/api/index/user/25\n",
    "# Note : path('index/user/<int:usr>', views.index)"
   ]
  },
  {
   "cell_type": "markdown",
   "id": "4d4d9aac",
   "metadata": {},
   "source": [
    "# Creating Post API"
   ]
  },
  {
   "cell_type": "code",
   "execution_count": null,
   "id": "451cd82e",
   "metadata": {},
   "outputs": [],
   "source": [
    "#Everything is same GET API the only change is the below code\n",
    "\n",
    "@api_view([\"POST\"])\n",
    "def index(request):\n",
    "    if request.method == \"POST\":\n",
    "        print(request.data)\n",
    "        msg = \"data posted...\"\n",
    "        return Response(msg)\n",
    "    \n",
    "# http://127.0.0.1:8000/api/index/\n",
    "\"\"\"\n",
    "request body : {\n",
    "    \"name\" : \"rahul\",\n",
    "    \"age\" : 25\n",
    "}\n",
    "\n",
    "response : \"data posted...\"\n",
    "\"\"\""
   ]
  },
  {
   "cell_type": "markdown",
   "id": "78d21d45",
   "metadata": {},
   "source": [
    "# Creating Serializers"
   ]
  },
  {
   "cell_type": "code",
   "execution_count": null,
   "id": "5c16afed",
   "metadata": {},
   "outputs": [],
   "source": [
    "# models.py\n",
    "from django.db import models\n",
    "class Person(models.Model):\n",
    "    name = models.CharField(max_length=20)\n",
    "    age = models.IntegerField()\n",
    "    \n",
    "# serializers.py\n",
    "from rest_framework import serializers\n",
    "from .models import Person\n",
    "class PersonSerializer(serializers.ModelSerializer):\n",
    "    class Meta:\n",
    "        model = Person\n",
    "        fields = ['id','name', 'age'] #required name & age\n",
    "        # fields = \"__all__\"\n",
    "        # exclude = ['name']\n",
    "    \n",
    "#views.py\n",
    "from rest_framework.decorators import api_view\n",
    "from rest_framework.response import Response\n",
    "from .models import Person\n",
    "from .serializers import PersonSerializer\n",
    "@api_view(['GET', 'POST'])\n",
    "def people(request):\n",
    "    if request.method == \"GET\":\n",
    "        out = Person.objects.all()\n",
    "        serializer = PersonSerializer(out, many = True)\n",
    "        return Response(serializer.data)\n",
    "    else:\n",
    "        data = request.data\n",
    "        serializer = PersonSerializer(data = data)\n",
    "        if serializer.is_valid():\n",
    "            serializer.save()\n",
    "            return Response(serializer.data)\n",
    "        return Response(serializer.errors)\n",
    "\n",
    "#urls.py\n",
    "from home import views\n",
    "from django.urls import path\n",
    "urlpatterns = [\n",
    "    path('person/', views.people),\n",
    "]\n",
    "\n",
    "\n",
    "\"\"\"\n",
    "GET : http://127.0.0.1:8000/api/person/\n",
    "response : [\n",
    "    {\n",
    "        \"id\": 1,\n",
    "        \"name\": \"rahul\",\n",
    "        \"age\": 25\n",
    "    }\n",
    "]\n",
    "\n",
    "POST : GET : http://127.0.0.1:8000/api/person/\n",
    "request : {\n",
    "    \"name\" : \"rahul\",\n",
    "    \"age\" : 25\n",
    "}\n",
    "\n",
    "response : [\n",
    "    {\n",
    "        \"id\": 1,\n",
    "        \"name\": \"rahul\",\n",
    "        \"age\": 25\n",
    "    }\n",
    "]\n",
    "\"\"\""
   ]
  },
  {
   "cell_type": "markdown",
   "id": "ec31ef75",
   "metadata": {},
   "source": [
    "# Validation in Serializer"
   ]
  },
  {
   "cell_type": "code",
   "execution_count": null,
   "id": "efce778b",
   "metadata": {},
   "outputs": [],
   "source": [
    "class PersonSerializer(serializers.ModelSerializer):\n",
    "\n",
    "    class Meta:\n",
    "        model = Person\n",
    "        fields = ['id','name', 'age'] #required name & age\n",
    "\n",
    "    def validate(self, data):\n",
    "        if data['age'] < 18:\n",
    "            raise serializers.ValidationError(\"age should be greater than 18\")\n",
    "\n",
    "        return data\n",
    "# Note : For validation we use prefix as validate. e.g validate_age, validate_name or just validate \n",
    "# when it is one only."
   ]
  },
  {
   "cell_type": "markdown",
   "id": "54a8c5ca",
   "metadata": {},
   "source": [
    "# Method Serializer"
   ]
  },
  {
   "cell_type": "code",
   "execution_count": null,
   "id": "52b793ee",
   "metadata": {},
   "outputs": [],
   "source": [
    "class PersonSerializer(serializers.ModelSerializer):\n",
    "    color = ColorSerializer()\n",
    "    country = serializers.SerializerMethodField()\n",
    "    class Meta:\n",
    "        model = Person\n",
    "        fields = \"__all__\"\n",
    "\n",
    "    def get_country(self, obj):\n",
    "        return \"India\"\n",
    "# Note : For methods we use get as prefix so that django can recognize. e.g. get_xyz"
   ]
  },
  {
   "cell_type": "markdown",
   "id": "053ff21c",
   "metadata": {},
   "source": [
    "# Custom Serializer"
   ]
  },
  {
   "cell_type": "code",
   "execution_count": null,
   "id": "8221b4bc",
   "metadata": {},
   "outputs": [],
   "source": [
    "class LoginSerializer(serializers.Serializer):\n",
    "    email = serializers.EmailField()\n",
    "    password = serializers.CharField()"
   ]
  },
  {
   "cell_type": "markdown",
   "id": "a0220ee6",
   "metadata": {},
   "source": [
    "# Using Relationship in Serializer"
   ]
  },
  {
   "cell_type": "code",
   "execution_count": null,
   "id": "78730f7c",
   "metadata": {},
   "outputs": [],
   "source": [
    "#models.py\n",
    "class Color(models.Model):\n",
    "    color_name = models.CharField(max_length=100)\n",
    "    def __str__(self):\n",
    "        return self.color_name\n",
    "\n",
    "class Person(models.Model):\n",
    "    color = models.ForeignKey(Color, null=True,blank=True, on_delete=models.CASCADE, related_name=\"color\")\n",
    "    name = models.CharField(max_length=20)\n",
    "    age = models.IntegerField()\n",
    "\n",
    "#serializer.py\n",
    "class ColorSerializer(serializers.ModelSerializer):\n",
    "\n",
    "    class Meta:\n",
    "        model = Color\n",
    "        fields = ['color_name']\n",
    "\n",
    "class PersonSerializer(serializers.ModelSerializer):\n",
    "    color = ColorSerializer()\n",
    "    class Meta:\n",
    "        model = Person\n",
    "        fields = \"__all__\""
   ]
  },
  {
   "cell_type": "markdown",
   "id": "cd4da0b6",
   "metadata": {},
   "source": [
    "# Get all records from DB"
   ]
  },
  {
   "cell_type": "code",
   "execution_count": null,
   "id": "5e7b49f9",
   "metadata": {},
   "outputs": [],
   "source": [
    "@api_view(['GET', 'POST', \"PUT\", \"PATCH\", 'DELETE'])\n",
    "def people(request):\n",
    "    if request.method == \"GET\":\n",
    "        out = Person.objects.all()\n",
    "        serializer = PersonSerializer(out, many = True)\n",
    "        return Response(serializer.data)"
   ]
  },
  {
   "cell_type": "markdown",
   "id": "18e7ff45",
   "metadata": {},
   "source": [
    "# Add a record in DB"
   ]
  },
  {
   "cell_type": "code",
   "execution_count": null,
   "id": "c3c80075",
   "metadata": {},
   "outputs": [],
   "source": [
    "@api_view(['GET', 'POST', \"PUT\", \"PATCH\", 'DELETE'])\n",
    "def people(request):\n",
    "    if request.method == \"POST\":\n",
    "        data = request.data\n",
    "        serializer = PersonSerializer(data = data)\n",
    "        if serializer.is_valid():\n",
    "            serializer.save()\n",
    "            return Response(serializer.data)\n",
    "        return Response(serializer.errors)"
   ]
  },
  {
   "cell_type": "markdown",
   "id": "2f2329df",
   "metadata": {},
   "source": [
    "# Update a record in DB"
   ]
  },
  {
   "cell_type": "code",
   "execution_count": null,
   "id": "72fb5f62",
   "metadata": {},
   "outputs": [],
   "source": [
    "@api_view(['GET', 'POST', \"PUT\", \"PATCH\", 'DELETE'])\n",
    "    if request.method == \"PUT\":\n",
    "        data = request.data\n",
    "        obj = Person.objects.get(id=data['id'])\n",
    "        serializer = PersonSerializer(obj, data = data)\n",
    "        if serializer.is_valid():\n",
    "            serializer.save()\n",
    "            return Response(serializer.data)\n",
    "        return Response(serializer.errors)"
   ]
  },
  {
   "cell_type": "markdown",
   "id": "1a2024dd",
   "metadata": {},
   "source": [
    "# Update(Partial) a record in DB"
   ]
  },
  {
   "cell_type": "code",
   "execution_count": null,
   "id": "703186e4",
   "metadata": {},
   "outputs": [],
   "source": [
    "@api_view(['GET', 'POST', \"PUT\", \"PATCH\", 'DELETE'])\n",
    "def people(request):\n",
    "    if request.method == \"PATCH\":\n",
    "        data = request.data\n",
    "        obj = Person.objects.get(id=data['id'])\n",
    "        serializer = PersonSerializer(obj, data = data, partial=True)\n",
    "        if serializer.is_valid():\n",
    "            serializer.save()\n",
    "            return Response(serializer.data)\n",
    "        return Response(serializer.errors)"
   ]
  },
  {
   "cell_type": "markdown",
   "id": "31234482",
   "metadata": {},
   "source": [
    "# Delete a record from DB"
   ]
  },
  {
   "cell_type": "code",
   "execution_count": null,
   "id": "c9d95ae9",
   "metadata": {},
   "outputs": [],
   "source": [
    "@api_view(['GET', 'POST', \"PUT\", \"PATCH\", 'DELETE'])\n",
    "def people(request):\n",
    "    if request.method == \"DELETE\":\n",
    "        data = request.data\n",
    "        try:\n",
    "            obj = Person.objects.get(id=data['id'])\n",
    "            obj.delete()\n",
    "            return Response({\"msg\":\"data deleted...\"})\n",
    "        except:\n",
    "            return Response({\"msg\":\"data not found...\"}, status=404)"
   ]
  },
  {
   "cell_type": "markdown",
   "id": "5e3e21d3",
   "metadata": {},
   "source": [
    "# Class Based API"
   ]
  },
  {
   "cell_type": "code",
   "execution_count": null,
   "id": "46edb329",
   "metadata": {},
   "outputs": [],
   "source": [
    "# views.py\n",
    "class Person(APIView):\n",
    "    def get(self, request):\n",
    "        return Response({\"msg\": \"This is get API\"})\n",
    "    \n",
    "# urls.py\n",
    "urlpatterns = [\n",
    "    path('persons/', views.Person.as_view()),\n",
    "]\n",
    "# -> rest everything is same as @api_view()"
   ]
  },
  {
   "cell_type": "markdown",
   "id": "0d451e0d",
   "metadata": {},
   "source": [
    "# CRUD with ModelsViewSet"
   ]
  },
  {
   "cell_type": "code",
   "execution_count": null,
   "id": "14f12678",
   "metadata": {},
   "outputs": [],
   "source": [
    "# views.py\n",
    "class PeopleViewSets(viewsets.ModelViewSet):\n",
    "#     http_method_names = ['get', 'post']\n",
    "    serializer_class = PersonSerializer\n",
    "    queryset = Person.objects.all()\n",
    "    \n",
    "#urls.py\n",
    "from rest_framework.routers import DefaultRouter\n",
    "\n",
    "router = DefaultRouter()\n",
    "router.register(r'people', views.PeopleViewSets, basename='people')\n",
    "urlpatterns = router.urls\n",
    "\n",
    "urlpatterns = [\n",
    "    path('', include(router.urls)),\n",
    "    path('index/user/<int:usr>', views.index),\n",
    "    path('person/', views.people)\n",
    "]\n",
    "\n",
    "# Note : http_method_names = ['get', 'post'] this will restrict the CRUD operation of ModelViewSet\n",
    "# to get & post only."
   ]
  },
  {
   "cell_type": "markdown",
   "id": "cf276da7",
   "metadata": {},
   "source": [
    "# Token Authentication"
   ]
  },
  {
   "cell_type": "code",
   "execution_count": null,
   "id": "6b3df229",
   "metadata": {},
   "outputs": [],
   "source": [
    "# settings.py\n",
    "INSTALLED_APPS = ['rest_framework.authtoken']\n",
    "\n",
    "REST_FRAMEWORK = {\n",
    "    'DEFAULT_AUTHENTICATION_CLASSES': [\n",
    "        'rest_framework.authentication.BasicAuthentication',\n",
    "        'rest_framework.authentication.SessionAuthentication',\n",
    "    ]\n",
    "}\n",
    "\n",
    "#python manage.py migrate\n",
    "\n",
    "#serializer.py\n",
    "class LoginSerializer(serializers.Serializer):\n",
    "    username = serializers.CharField()\n",
    "    password = serializers.CharField()\n",
    "\n",
    "class RegisterSerializer(serializers.Serializer):\n",
    "    username = serializers.CharField()\n",
    "    email = serializers.EmailField()\n",
    "    password = serializers.CharField()\n",
    "    def validate(self, data):\n",
    "        if data['username']:\n",
    "            if User.objects.filter(username=data['username']).exists():\n",
    "                raise serializers.ValidationError(\"username is taken\")\n",
    "        return data\n",
    "    def create(self, validated_data):\n",
    "        user = User.objects.create(username=validated_data['username'], email=validated_data['email'] )\n",
    "        user.set_password(validated_data['password'])\n",
    "        user.save()\n",
    "        return validated_data\n",
    "    \n",
    "# views.py\n",
    "from django.contrib.auth import authenticate\n",
    "from rest_framework.authtoken.models import Token\n",
    "class RegisterAPI(APIView):\n",
    "    def post(self, request):\n",
    "        data = request.data\n",
    "        serializer = RegisterSerializer(data = data)\n",
    "        if not serializer.is_valid():\n",
    "            return Response({\n",
    "                'status': False,\n",
    "                'message':serializer.errors\n",
    "            }, status=400)\n",
    "        serializer.save()\n",
    "        return Response({'status':True, 'msg':'user created !'}, status=201)\n",
    "\n",
    "class LoginAPI(APIView):\n",
    "    def post(self, request):\n",
    "        data = request.data\n",
    "        serializer = LoginSerializer(data=data)\n",
    "        if not serializer.is_valid():\n",
    "            return Response({\n",
    "                'status': False,\n",
    "                'message':serializer.errors\n",
    "            }, status=400)\n",
    "        user = authenticate(username=serializer.data['username'], password=serializer.data['password'])\n",
    "        if not user:\n",
    "            return Response({\n",
    "                'status': False,\n",
    "                'message':'Invalid Creds'\n",
    "            }, status=400)\n",
    "        token = Token.objects.create(user=user)\n",
    "        return Response({'status':True, 'token':str(token),'msg':'user logged in !'}, status=200)\n",
    "    \n",
    "# urls.py\n",
    "urlpatterns = [\n",
    "    path('register/', views.RegisterAPI.as_view()),\n",
    "    path('login/', views.LoginAPI.as_view())\n",
    "]"
   ]
  },
  {
   "cell_type": "markdown",
   "id": "e4a8ed05",
   "metadata": {},
   "source": [
    "# Authorization"
   ]
  },
  {
   "cell_type": "code",
   "execution_count": null,
   "id": "56a825c8",
   "metadata": {},
   "outputs": [],
   "source": [
    "#settings.py\n",
    "REST_FRAMEWORK = {\n",
    "    'DEFAULT_PERMISSION_CLASSES': [\n",
    "        'rest_framework.permissions.AllowAny',\n",
    "    ]\n",
    "}\n",
    "\n",
    "# views.py\n",
    "from rest_framework.permissions import IsAuthenticated\n",
    "from rest_framework.authentication import TokenAuthentication\n",
    "\n",
    "@api_view(['GET', 'POST', \"PUT\", \"PATCH\", 'DELETE'])\n",
    "@permission_classes([IsAuthenticated])\n",
    "@authentication_classes([TokenAuthentication])\n",
    "def people(request):\n",
    "    if request.method == \"GET\":\n",
    "        out = Person.objects.all()\n",
    "        serializer = PersonSerializer(out, many = True)\n",
    "        return Response(serializer.data)\n",
    "    \n",
    "#in headers, send authorization as key & for value send in this format - Token efd5adb6b0aba913b6e823a0849e716ad11522d0"
   ]
  },
  {
   "cell_type": "markdown",
   "id": "4c06f44a",
   "metadata": {},
   "source": [
    "# Pagination"
   ]
  },
  {
   "cell_type": "code",
   "execution_count": null,
   "id": "03caedcb",
   "metadata": {},
   "outputs": [],
   "source": [
    "# settings.py\n",
    "REST_FRAMEWORK = {\n",
    "    'DEFAULT_PAGINATION_CLASS': 'rest_framework.pagination.LimitOffsetPagination',\n",
    "    'PAGE_SIZE': 100\n",
    "}\n",
    "\n",
    "# views.py\n",
    "from django.core.paginator import Paginator\n",
    "@api_view(['GET', 'POST', \"PUT\", \"PATCH\", 'DELETE'])\n",
    "def people(request):\n",
    "    if request.method == \"GET\":\n",
    "        out = Person.objects.all()\n",
    "        page = request.GET.get('page', 1)\n",
    "        page_size = 3\n",
    "        try:\n",
    "            paginator = Paginator(out, page_size)\n",
    "            serializer = PersonSerializer(paginator.page(page), many = True)\n",
    "            return Response(serializer.data)\n",
    "        except:\n",
    "            return Response({\"msg\":\"invalid page number\"})"
   ]
  },
  {
   "cell_type": "code",
   "execution_count": null,
   "id": "7a172054",
   "metadata": {},
   "outputs": [],
   "source": []
  },
  {
   "cell_type": "code",
   "execution_count": null,
   "id": "1ac35031",
   "metadata": {},
   "outputs": [],
   "source": []
  }
 ],
 "metadata": {
  "kernelspec": {
   "display_name": "Python 3 (ipykernel)",
   "language": "python",
   "name": "python3"
  },
  "language_info": {
   "codemirror_mode": {
    "name": "ipython",
    "version": 3
   },
   "file_extension": ".py",
   "mimetype": "text/x-python",
   "name": "python",
   "nbconvert_exporter": "python",
   "pygments_lexer": "ipython3",
   "version": "3.10.4"
  }
 },
 "nbformat": 4,
 "nbformat_minor": 5
}
